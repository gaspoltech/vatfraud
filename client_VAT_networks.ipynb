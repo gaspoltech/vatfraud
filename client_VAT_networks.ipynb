{
 "cells": [
  {
   "cell_type": "code",
   "execution_count": 3,
   "source": [
    "import pickle\r\n",
    "import networkx as nx\r\n",
    "from pyvis.network import Network\r\n",
    "\r\n",
    "A, tree,G,wp = pickle.load(open(\"vat_network_all.p\",\"rb\"))\r\n",
    "db_wp = pickle.load(open(\"d_wp.p\",\"rb\"))"
   ],
   "outputs": [],
   "metadata": {}
  },
  {
   "cell_type": "code",
   "execution_count": 10,
   "source": [
    "# wp[wp.npwp == '570445897409555'].index.values[0]\r\n",
    "nomor_npwp = '565157133509555'\r\n"
   ],
   "outputs": [],
   "metadata": {}
  },
  {
   "cell_type": "code",
   "execution_count": 11,
   "source": [
    "import matplotlib.pyplot as plt\r\n",
    "idx = db_wp[db_wp.npwp == nomor_npwp].index.values[0]\r\n",
    "wp_awal = db_wp[db_wp.index.isin([idx])].npwp.values \r\n",
    "idx = tree.query(A[idx,:].toarray(), k=10)[1][0]\r\n",
    "idx = wp[wp.index.isin(idx)].npwp.values\r\n",
    "print(\"WP Query (red): \" + wp_awal[0])\r\n",
    "print(\"WP Serupa (green): \" + \", \".join(idx) )"
   ],
   "outputs": [
    {
     "output_type": "stream",
     "name": "stdout",
     "text": [
      "WP Query (red): 565157133509555\n",
      "WP Serupa (green): 869293956164555, 395979478176555, 574101676761555, 351434472596555, 579061725957555, 563373300502555, 373449195593555, 568803022588555, 487752971950555, 206026307277555\n"
     ]
    }
   ],
   "metadata": {}
  },
  {
   "cell_type": "code",
   "execution_count": null,
   "source": [
    "nodesList = []\r\n",
    "for item in idx :\r\n",
    "    for each in nx.shortest_path(G,wp_awal[0],item):\r\n",
    "        nodesList.append(each)\r\n",
    "# nodes_between_set = {node for path in gen for node in path}\r\n",
    "# nodes_between_set\r\n",
    "H = G.subgraph(set(nodesList))\r\n",
    "# nx.set_node_attributes(H,wp_awal[0],'size')\r\n",
    "print(\"Hidden Network : \")\r\n",
    "for item in H.nodes:\r\n",
    "    if item not in idx :print(item)"
   ],
   "outputs": [],
   "metadata": {}
  },
  {
   "cell_type": "code",
   "execution_count": 13,
   "source": [
    "def draw_graph3(networkx_graph,notebook=False,output_filename='graph.html',show_buttons=False,only_physics_buttons=False):\r\n",
    "    # import\r\n",
    "    from pyvis import network as net\r\n",
    "    \r\n",
    "    # make a pyvis network\r\n",
    "    pyvis_graph = net.Network(notebook=notebook, directed=True)\r\n",
    "    \r\n",
    "    # for each node and its attributes in the networkx graph\r\n",
    "    for node,node_attrs in networkx_graph.nodes(data=True):\r\n",
    "        node_attrs['size'] = 5\r\n",
    "        if node in idx : \r\n",
    "            node_attrs['size'] = 10\r\n",
    "            node_attrs['color'] = 'green'\r\n",
    "        if node == wp_awal : \r\n",
    "            node_attrs['size'] = 20\r\n",
    "            node_attrs['color'] = 'red'\r\n",
    "\r\n",
    "        pyvis_graph.add_node(str(node),**node_attrs)\r\n",
    "        \r\n",
    "    # for each edge and its attributes in the networkx graph\r\n",
    "    for source,target,edge_attrs in networkx_graph.edges(data=True):\r\n",
    "#       edge_attrs['value'] = 0.5\r\n",
    "        edge_attrs['arrowStrikethrough'] = True\r\n",
    "        # add the edge\r\n",
    "        pyvis_graph.add_edge(str(source),str(target),**edge_attrs)\r\n",
    "        \r\n",
    "    # turn buttons on\r\n",
    "    if show_buttons:\r\n",
    "        if only_physics_buttons:\r\n",
    "            pyvis_graph.show_buttons(filter_=['physics'])\r\n",
    "        else:\r\n",
    "            pyvis_graph.show_buttons()\r\n",
    "    \r\n",
    "    # return and also save\r\n",
    "    return pyvis_graph.show(output_filename)\r\n",
    "\r\n",
    "# @maciejkos\r\n"
   ],
   "outputs": [],
   "metadata": {}
  },
  {
   "cell_type": "code",
   "execution_count": 14,
   "source": [
    "draw_graph3(H)"
   ],
   "outputs": [],
   "metadata": {}
  },
  {
   "cell_type": "code",
   "execution_count": null,
   "source": [],
   "outputs": [],
   "metadata": {}
  }
 ],
 "metadata": {
  "kernelspec": {
   "name": "python3",
   "display_name": "Python 3.9.6 64-bit ('djpenv': venv)"
  },
  "language_info": {
   "name": "python",
   "version": "3.9.6",
   "mimetype": "text/x-python",
   "codemirror_mode": {
    "name": "ipython",
    "version": 3
   },
   "pygments_lexer": "ipython3",
   "nbconvert_exporter": "python",
   "file_extension": ".py"
  },
  "interpreter": {
   "hash": "597e1cd64ce8178b220338c27a4f1175ce3573516f2aa1552f682735e6a10dc5"
  }
 },
 "nbformat": 4,
 "nbformat_minor": 5
}